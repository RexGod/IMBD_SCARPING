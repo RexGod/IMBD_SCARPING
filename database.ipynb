{
 "cells": [
  {
   "cell_type": "code",
   "execution_count": 39,
   "metadata": {},
   "outputs": [],
   "source": [
    "import pandas as pd\n",
    "import numpy as np\n",
    "import mysql.connector"
   ]
  },
  {
   "cell_type": "code",
   "execution_count": 40,
   "metadata": {},
   "outputs": [],
   "source": [
    "top_250 = pd.read_csv('top_250.csv')"
   ]
  },
  {
   "cell_type": "code",
   "execution_count": 41,
   "metadata": {},
   "outputs": [],
   "source": [
    "top_250['parental_guide'].replace(['blank' , 'Not Rated' , 'null'] , 'Unrated' , inplace=True)"
   ]
  },
  {
   "cell_type": "code",
   "execution_count": 42,
   "metadata": {},
   "outputs": [],
   "source": [
    "top_250['gross_us_canada']=top_250['gross_us_canada'].str.replace('[,|$]', '' ,regex=True)"
   ]
  },
  {
   "cell_type": "code",
   "execution_count": 43,
   "metadata": {},
   "outputs": [
    {
     "data": {
      "text/html": [
       "<div>\n",
       "<style scoped>\n",
       "    .dataframe tbody tr th:only-of-type {\n",
       "        vertical-align: middle;\n",
       "    }\n",
       "\n",
       "    .dataframe tbody tr th {\n",
       "        vertical-align: top;\n",
       "    }\n",
       "\n",
       "    .dataframe thead th {\n",
       "        text-align: right;\n",
       "    }\n",
       "</style>\n",
       "<table border=\"1\" class=\"dataframe\">\n",
       "  <thead>\n",
       "    <tr style=\"text-align: right;\">\n",
       "      <th></th>\n",
       "      <th>title</th>\n",
       "      <th>runtime</th>\n",
       "      <th>parental_guide</th>\n",
       "      <th>genre</th>\n",
       "      <th>directors</th>\n",
       "      <th>stars</th>\n",
       "      <th>writers</th>\n",
       "      <th>person_id</th>\n",
       "      <th>gross_us_canada</th>\n",
       "      <th>film_id</th>\n",
       "    </tr>\n",
       "  </thead>\n",
       "  <tbody>\n",
       "    <tr>\n",
       "      <th>0</th>\n",
       "      <td>The Shawshank Redemption</td>\n",
       "      <td>2h 22m</td>\n",
       "      <td>R</td>\n",
       "      <td>['Drama']</td>\n",
       "      <td>['Frank Darabont']</td>\n",
       "      <td>['Tim Robbins', 'Morgan Freeman', 'Bob Gunton']</td>\n",
       "      <td>['Stephen King', 'Frank Darabont']</td>\n",
       "      <td>{'directors': ['0001104'], 'stars': ['0000209'...</td>\n",
       "      <td>28767189</td>\n",
       "      <td>111161</td>\n",
       "    </tr>\n",
       "    <tr>\n",
       "      <th>1</th>\n",
       "      <td>The Godfather</td>\n",
       "      <td>2h 55m</td>\n",
       "      <td>R</td>\n",
       "      <td>['Crime', 'Drama']</td>\n",
       "      <td>['Francis Ford Coppola']</td>\n",
       "      <td>['Marlon Brando', 'Al Pacino', 'James Caan']</td>\n",
       "      <td>['Mario Puzo', 'Francis Ford Coppola']</td>\n",
       "      <td>{'directors': ['0000338'], 'stars': ['0000008'...</td>\n",
       "      <td>136381073</td>\n",
       "      <td>68646</td>\n",
       "    </tr>\n",
       "    <tr>\n",
       "      <th>2</th>\n",
       "      <td>The Dark Knight</td>\n",
       "      <td>2h 32m</td>\n",
       "      <td>PG-13</td>\n",
       "      <td>['Action', 'Crime', 'Drama']</td>\n",
       "      <td>['Christopher Nolan']</td>\n",
       "      <td>['Christian Bale', 'Heath Ledger', 'Aaron Eckh...</td>\n",
       "      <td>['Jonathan Nolan', 'Christopher Nolan', 'David...</td>\n",
       "      <td>{'directors': ['0634240'], 'stars': ['0000288'...</td>\n",
       "      <td>534987076</td>\n",
       "      <td>468569</td>\n",
       "    </tr>\n",
       "    <tr>\n",
       "      <th>3</th>\n",
       "      <td>The Godfather Part II</td>\n",
       "      <td>3h 22m</td>\n",
       "      <td>R</td>\n",
       "      <td>['Crime', 'Drama']</td>\n",
       "      <td>['Francis Ford Coppola']</td>\n",
       "      <td>['Al Pacino', 'Robert De Niro', 'Robert Duvall']</td>\n",
       "      <td>['Francis Ford Coppola', 'Mario Puzo']</td>\n",
       "      <td>{'directors': ['0000338'], 'stars': ['0000199'...</td>\n",
       "      <td>47834595</td>\n",
       "      <td>71562</td>\n",
       "    </tr>\n",
       "    <tr>\n",
       "      <th>4</th>\n",
       "      <td>12 Angry Men</td>\n",
       "      <td>1h 36m</td>\n",
       "      <td>Approved</td>\n",
       "      <td>['Crime', 'Drama']</td>\n",
       "      <td>['Sidney Lumet']</td>\n",
       "      <td>['Henry Fonda', 'Lee J. Cobb', 'Martin Balsam']</td>\n",
       "      <td>['Reginald Rose']</td>\n",
       "      <td>{'directors': ['0001486'], 'stars': ['0000020'...</td>\n",
       "      <td>NaN</td>\n",
       "      <td>50083</td>\n",
       "    </tr>\n",
       "  </tbody>\n",
       "</table>\n",
       "</div>"
      ],
      "text/plain": [
       "                      title runtime parental_guide  \\\n",
       "0  The Shawshank Redemption  2h 22m              R   \n",
       "1             The Godfather  2h 55m              R   \n",
       "2           The Dark Knight  2h 32m          PG-13   \n",
       "3     The Godfather Part II  3h 22m              R   \n",
       "4              12 Angry Men  1h 36m       Approved   \n",
       "\n",
       "                          genre                 directors  \\\n",
       "0                     ['Drama']        ['Frank Darabont']   \n",
       "1            ['Crime', 'Drama']  ['Francis Ford Coppola']   \n",
       "2  ['Action', 'Crime', 'Drama']     ['Christopher Nolan']   \n",
       "3            ['Crime', 'Drama']  ['Francis Ford Coppola']   \n",
       "4            ['Crime', 'Drama']          ['Sidney Lumet']   \n",
       "\n",
       "                                               stars  \\\n",
       "0    ['Tim Robbins', 'Morgan Freeman', 'Bob Gunton']   \n",
       "1       ['Marlon Brando', 'Al Pacino', 'James Caan']   \n",
       "2  ['Christian Bale', 'Heath Ledger', 'Aaron Eckh...   \n",
       "3   ['Al Pacino', 'Robert De Niro', 'Robert Duvall']   \n",
       "4    ['Henry Fonda', 'Lee J. Cobb', 'Martin Balsam']   \n",
       "\n",
       "                                             writers  \\\n",
       "0                 ['Stephen King', 'Frank Darabont']   \n",
       "1             ['Mario Puzo', 'Francis Ford Coppola']   \n",
       "2  ['Jonathan Nolan', 'Christopher Nolan', 'David...   \n",
       "3             ['Francis Ford Coppola', 'Mario Puzo']   \n",
       "4                                  ['Reginald Rose']   \n",
       "\n",
       "                                           person_id gross_us_canada  film_id  \n",
       "0  {'directors': ['0001104'], 'stars': ['0000209'...        28767189   111161  \n",
       "1  {'directors': ['0000338'], 'stars': ['0000008'...       136381073    68646  \n",
       "2  {'directors': ['0634240'], 'stars': ['0000288'...       534987076   468569  \n",
       "3  {'directors': ['0000338'], 'stars': ['0000199'...        47834595    71562  \n",
       "4  {'directors': ['0001486'], 'stars': ['0000020'...             NaN    50083  "
      ]
     },
     "execution_count": 43,
     "metadata": {},
     "output_type": "execute_result"
    }
   ],
   "source": [
    "top_250.head()"
   ]
  },
  {
   "cell_type": "code",
   "execution_count": 44,
   "metadata": {},
   "outputs": [],
   "source": [
    "database = mysql.connector.connect(\n",
    "    host = 'localhost',\n",
    "    user = 'root',\n",
    "    password = 'Sh@0831@Sh'\n",
    ")"
   ]
  },
  {
   "cell_type": "code",
   "execution_count": null,
   "metadata": {},
   "outputs": [],
   "source": [
    "mycursor = database.cursor()"
   ]
  },
  {
   "cell_type": "code",
   "execution_count": 45,
   "metadata": {},
   "outputs": [],
   "source": [
    "\n",
    "mycursor.execute('create database IMDB_TOP_250')\n"
   ]
  },
  {
   "cell_type": "code",
   "execution_count": 46,
   "metadata": {},
   "outputs": [],
   "source": [
    "mycursor.execute('USE IMDB_TOP_250')"
   ]
  },
  {
   "cell_type": "code",
   "execution_count": 48,
   "metadata": {},
   "outputs": [],
   "source": [
    "mycursor.execute('create table  movie (id VARCHAR(8) PRIMARY KEY , \\\n",
    "                 title VARCHAR(128) NOT NULL,\\\n",
    "                 year INT,\\\n",
    "                 runtime INT,\\\n",
    "                 parental_guide VARCHAR(8),\\\n",
    "                 gross_us_canada INT)')\n"
   ]
  },
  {
   "cell_type": "code",
   "execution_count": 49,
   "metadata": {},
   "outputs": [],
   "source": [
    "mycursor.execute('create table person (id varchar(8) PRIMARY KEY ,\\\n",
    "                 name varchar(32))')"
   ]
  },
  {
   "cell_type": "code",
   "execution_count": 51,
   "metadata": {},
   "outputs": [],
   "source": [
    "mycursor.execute('CREATE TABLE cast (id INT AUTO_INCREMENT PRIMARY KEY,\\\n",
    "    movie_id VARCHAR(8),\\\n",
    "    person_id VARCHAR(8),\\\n",
    "    FOREIGN KEY (movie_id) REFERENCES movie(id),\\\n",
    "    FOREIGN KEY (person_id) REFERENCES person(id)\\\n",
    ") AUTO_INCREMENT = 1')"
   ]
  }
 ],
 "metadata": {
  "kernelspec": {
   "display_name": "BootCamp",
   "language": "python",
   "name": "python3"
  },
  "language_info": {
   "codemirror_mode": {
    "name": "ipython",
    "version": 3
   },
   "file_extension": ".py",
   "mimetype": "text/x-python",
   "name": "python",
   "nbconvert_exporter": "python",
   "pygments_lexer": "ipython3",
   "version": "3.9.17"
  },
  "orig_nbformat": 4
 },
 "nbformat": 4,
 "nbformat_minor": 2
}
