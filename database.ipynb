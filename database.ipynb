{
 "cells": [
  {
   "cell_type": "markdown",
   "metadata": {},
   "source": [
    "+ #### import lib"
   ]
  },
  {
   "cell_type": "code",
   "execution_count": 139,
   "metadata": {},
   "outputs": [],
   "source": [
    "import pandas as pd\n",
    "import numpy as np\n",
    "import mysql.connector\n",
    "import re\n",
    "import ast"
   ]
  },
  {
   "cell_type": "markdown",
   "metadata": {},
   "source": [
    "### read csv file contain dataFrame"
   ]
  },
  {
   "cell_type": "code",
   "execution_count": 140,
   "metadata": {},
   "outputs": [],
   "source": [
    "top_250 = pd.read_csv('top_250.csv')"
   ]
  },
  {
   "cell_type": "markdown",
   "metadata": {},
   "source": [
    "1. # Prepairing Data"
   ]
  },
  {
   "cell_type": "markdown",
   "metadata": {},
   "source": [
    "#### cleaning DataFrame"
   ]
  },
  {
   "cell_type": "code",
   "execution_count": 141,
   "metadata": {},
   "outputs": [],
   "source": [
    "top_250['parental_guide'].replace(['blank' , 'Not Rated' , 'null' , 'NaN' , 'None'] , 'Unrated' , inplace=True)\n",
    "top_250['parental_guide'].fillna('Unrated' , inplace=True)"
   ]
  },
  {
   "cell_type": "code",
   "execution_count": 142,
   "metadata": {},
   "outputs": [],
   "source": [
    "top_250['gross_us_canada']=top_250['gross_us_canada'].str.replace('[,|$]', '' ,regex=True)\n",
    "top_250['gross_us_canada'].fillna('0' , inplace=True)"
   ]
  },
  {
   "cell_type": "code",
   "execution_count": 143,
   "metadata": {},
   "outputs": [],
   "source": [
    "def convert_runtime(runtime):\n",
    "    match = re.match(r'(\\d+)h?\\s*(\\d*)m?', runtime)\n",
    "    if match:\n",
    "        hours = int(match.group(1))\n",
    "        minutes = int(match.group(2)) if match.group(2) else 0\n",
    "        return int(hours * 60 + minutes) "
   ]
  },
  {
   "cell_type": "code",
   "execution_count": 144,
   "metadata": {},
   "outputs": [],
   "source": [
    "top_250['runtime'] = top_250['runtime'].apply(convert_runtime)"
   ]
  },
  {
   "cell_type": "markdown",
   "metadata": {},
   "source": [
    "### combine all role of person"
   ]
  },
  {
   "cell_type": "code",
   "execution_count": 145,
   "metadata": {},
   "outputs": [],
   "source": [
    "all_persons = {}\n",
    "for column in ['stars', 'writers', 'directors']:\n",
    "    top_250[column] = top_250[column].apply(ast.literal_eval)\n",
    "    for row in top_250[column]:\n",
    "        for key, value in row.items():\n",
    "            if key not in all_persons:\n",
    "                all_persons[key] = value"
   ]
  },
  {
   "cell_type": "code",
   "execution_count": 146,
   "metadata": {},
   "outputs": [],
   "source": [
    "unique_persons = pd.DataFrame(list(all_persons.items()), columns=['Person_ID', 'Name'])"
   ]
  },
  {
   "cell_type": "code",
   "execution_count": 147,
   "metadata": {},
   "outputs": [],
   "source": [
    "unique_persons.drop_duplicates(inplace=True)"
   ]
  },
  {
   "cell_type": "markdown",
   "metadata": {},
   "source": [
    "#### cast dataFrame"
   ]
  },
  {
   "cell_type": "code",
   "execution_count": 148,
   "metadata": {},
   "outputs": [],
   "source": [
    "cast_data = []\n",
    "\n",
    "for index, row in top_250.iterrows():\n",
    "    film_id = row[\"film_id\"]  \n",
    "    stars_dict = row[\"stars\"]\n",
    "    for star_id in stars_dict.keys():\n",
    "        cast_data.append({\"film_id\": film_id, \"person_id\": star_id})\n",
    "\n",
    "        \n",
    "cast_df = pd.DataFrame(cast_data)\n"
   ]
  },
  {
   "cell_type": "markdown",
   "metadata": {},
   "source": [
    "#### Crew DataFrame"
   ]
  },
  {
   "cell_type": "code",
   "execution_count": 149,
   "metadata": {},
   "outputs": [],
   "source": [
    "crew_data = []\n",
    "\n",
    "for index , row in top_250.iterrows():\n",
    "    film_id = row[\"film_id\"]\n",
    "    directors_dict = row[\"directors\"]\n",
    "    writers_dict = row[\"writers\"]\n",
    "    for director_id, director_name in directors_dict.items():\n",
    "        crew_data.append({\"film_id\": film_id, \"person_id\": director_id, \"role\": \"Director\"})\n",
    "    for writer_id, writer_name in writers_dict.items():\n",
    "        crew_data.append({\"film_id\": film_id, \"person_id\": writer_id, \"role\": \"Writer\"})\n",
    "\n",
    "\n",
    "crew_df = pd.DataFrame(crew_data)\n",
    "    "
   ]
  },
  {
   "cell_type": "markdown",
   "metadata": {},
   "source": [
    "### cleaning genre list from ' and []"
   ]
  },
  {
   "cell_type": "markdown",
   "metadata": {},
   "source": [
    "+ genre DataFrame"
   ]
  },
  {
   "cell_type": "code",
   "execution_count": 172,
   "metadata": {},
   "outputs": [],
   "source": [
    "genre_data = []\n",
    "\n",
    "def clean_genre(genre):\n",
    "    genre = genre.replace('[', '').replace(']', '').replace(\"'\", \"\").strip()\n",
    "    return genre\n",
    "for index, row in top_250.iterrows():\n",
    "    film_id = row[\"film_id\"]\n",
    "    genres = row[\"genre\"]\n",
    "    genre_list = [clean_genre(g) for g in genres.split(',')]\n",
    "    for genre in genre_list:\n",
    "        genre_data.append({\"film_id\": film_id, \"genre\": genre})\n",
    "genre_df = pd.DataFrame(genre_data)"
   ]
  },
  {
   "cell_type": "markdown",
   "metadata": {},
   "source": [
    "2. # Connect To Database"
   ]
  },
  {
   "cell_type": "code",
   "execution_count": 151,
   "metadata": {},
   "outputs": [],
   "source": [
    "database = mysql.connector.connect(\n",
    "    host = 'localhost',\n",
    "    user = 'root',\n",
    "    password = 'Sh@0831@Sh'\n",
    ")"
   ]
  },
  {
   "cell_type": "code",
   "execution_count": 152,
   "metadata": {},
   "outputs": [],
   "source": [
    "mycursor = database.cursor()"
   ]
  },
  {
   "cell_type": "code",
   "execution_count": 153,
   "metadata": {},
   "outputs": [],
   "source": [
    "\n",
    "mycursor.execute('create database IMDB_TOP_250')\n"
   ]
  },
  {
   "cell_type": "markdown",
   "metadata": {},
   "source": [
    "+ ### use database"
   ]
  },
  {
   "cell_type": "code",
   "execution_count": 154,
   "metadata": {},
   "outputs": [],
   "source": [
    "mycursor.execute('USE IMDB_TOP_250')"
   ]
  },
  {
   "cell_type": "markdown",
   "metadata": {},
   "source": [
    "+ ### Now Let Create Tables"
   ]
  },
  {
   "cell_type": "code",
   "execution_count": 155,
   "metadata": {},
   "outputs": [],
   "source": [
    "mycursor.execute('create table  movie (id VARCHAR(8) PRIMARY KEY , \\\n",
    "                 Title VARCHAR(128) NOT NULL,\\\n",
    "                 Year INT,\\\n",
    "                 Runtime INT,\\\n",
    "                 Parental_guide VARCHAR(8),\\\n",
    "                 Gross_us_canada INT)')\n"
   ]
  },
  {
   "cell_type": "code",
   "execution_count": 156,
   "metadata": {},
   "outputs": [],
   "source": [
    "mycursor.execute('create table person (id varchar(8) PRIMARY KEY ,\\\n",
    "                 Name varchar(32))')"
   ]
  },
  {
   "cell_type": "code",
   "execution_count": 157,
   "metadata": {},
   "outputs": [],
   "source": [
    "mycursor.execute('CREATE TABLE cast (id INT AUTO_INCREMENT PRIMARY KEY,\\\n",
    "    Movie_id VARCHAR(8),\\\n",
    "    Person_id VARCHAR(8),\\\n",
    "    FOREIGN KEY (Movie_id) REFERENCES movie(id),\\\n",
    "    FOREIGN KEY (Person_id) REFERENCES person(id)\\\n",
    ") AUTO_INCREMENT = 1')"
   ]
  },
  {
   "cell_type": "code",
   "execution_count": 158,
   "metadata": {},
   "outputs": [],
   "source": [
    "mycursor.execute('CREATE TABLE crew (id INT AUTO_INCREMENT PRIMARY KEY,\\\n",
    "                 Movie_id VARCHAR(8),\\\n",
    "                 Person_id VARCHAR(8),\\\n",
    "                 role VARCHAR(8),\\\n",
    "                 FOREIGN KEY (Movie_id) REFERENCES movie(id),\\\n",
    "                 FOREIGN KEY (Person_id) REFERENCES person(id)\\\n",
    "                 ) AUTO_INCREMENT = 1')"
   ]
  },
  {
   "cell_type": "code",
   "execution_count": 159,
   "metadata": {},
   "outputs": [],
   "source": [
    "mycursor.execute('CREATE TABLE genre_movie (id INT AUTO_INCREMENT PRIMARY KEY, \\\n",
    "                  Movie_id VARCHAR(8),\\\n",
    "                  Genre VARCHAR(16),\\\n",
    "                 FOREIGN KEY (Movie_id) REFERENCES movie(id)\\\n",
    "                 ) AUTO_INCREMENT = 1')"
   ]
  },
  {
   "cell_type": "markdown",
   "metadata": {},
   "source": [
    "#### add data from dataframe into database"
   ]
  },
  {
   "cell_type": "code",
   "execution_count": 160,
   "metadata": {},
   "outputs": [
    {
     "data": {
      "text/plain": [
       "title              0\n",
       "runtime            0\n",
       "parental_guide     0\n",
       "year               0\n",
       "genre              0\n",
       "directors          0\n",
       "stars              0\n",
       "writers            0\n",
       "gross_us_canada    0\n",
       "film_id            0\n",
       "dtype: int64"
      ]
     },
     "execution_count": 160,
     "metadata": {},
     "output_type": "execute_result"
    }
   ],
   "source": [
    "top_250.isna().sum()"
   ]
  },
  {
   "cell_type": "markdown",
   "metadata": {},
   "source": [
    "+ ### Now split values we need from DataFrame and Insert Into DataBase "
   ]
  },
  {
   "cell_type": "markdown",
   "metadata": {},
   "source": [
    "+ Movie Table"
   ]
  },
  {
   "cell_type": "code",
   "execution_count": 161,
   "metadata": {},
   "outputs": [],
   "source": [
    "movie_id = top_250['film_id'].to_list()\n",
    "titles = top_250['title'].tolist()\n",
    "years = top_250['year'].tolist()\n",
    "runtimes = top_250['runtime'].tolist()\n",
    "parental_guides = top_250['parental_guide'].tolist()\n",
    "gross_us_canadas = top_250['gross_us_canada'].tolist()"
   ]
  },
  {
   "cell_type": "code",
   "execution_count": 162,
   "metadata": {},
   "outputs": [],
   "source": [
    "values = list(zip(movie_id,titles, years, runtimes, parental_guides, gross_us_canadas))"
   ]
  },
  {
   "cell_type": "code",
   "execution_count": 163,
   "metadata": {},
   "outputs": [],
   "source": [
    "sql = \"INSERT INTO movie (id,Title, Year, Runtime, Parental_guide, Gross_us_canada) VALUES (%s,%s, %s, %s, %s, %s)\"\n",
    "mycursor.executemany(sql, values)\n",
    "database.commit()"
   ]
  },
  {
   "cell_type": "markdown",
   "metadata": {},
   "source": [
    "+ Person Table"
   ]
  },
  {
   "cell_type": "code",
   "execution_count": 164,
   "metadata": {},
   "outputs": [],
   "source": [
    "values = list(zip(person_id,person_name))\n",
    "person_id = unique_persons['Person_ID'].tolist()\n",
    "person_name = unique_persons['Name'].tolist()"
   ]
  },
  {
   "cell_type": "code",
   "execution_count": 165,
   "metadata": {},
   "outputs": [],
   "source": [
    "sql = \"INSERT INTO person (id,Name) VALUES (%s,%s)\"\n",
    "mycursor.executemany(sql, values)\n",
    "database.commit()"
   ]
  },
  {
   "cell_type": "markdown",
   "metadata": {},
   "source": [
    "+ Cast Table"
   ]
  },
  {
   "cell_type": "code",
   "execution_count": 166,
   "metadata": {},
   "outputs": [],
   "source": [
    "cast_movie_id = cast_df['film_id']\n",
    "cast_id_by_movie = cast_df['person_id']"
   ]
  },
  {
   "cell_type": "code",
   "execution_count": 167,
   "metadata": {},
   "outputs": [],
   "source": [
    "values = list(zip(cast_movie_id,cast_id_by_movie))\n",
    "sql = \"INSERT INTO cast (Movie_id,Person_id) VALUES (%s,%s)\"\n",
    "mycursor.executemany(sql, values)\n",
    "database.commit()"
   ]
  },
  {
   "cell_type": "markdown",
   "metadata": {},
   "source": [
    "+ Crew Table"
   ]
  },
  {
   "cell_type": "code",
   "execution_count": 168,
   "metadata": {},
   "outputs": [],
   "source": [
    "crew_person_id = crew_df['person_id']\n",
    "crew_film_id = crew_df['film_id']\n",
    "crew_role = crew_df['role']\n"
   ]
  },
  {
   "cell_type": "code",
   "execution_count": 169,
   "metadata": {},
   "outputs": [],
   "source": [
    "values = list(zip(crew_film_id,crew_person_id,crew_role))\n",
    "sql = \"INSERT INTO crew (Movie_id,Person_id , Role) VALUES (%s,%s,%s)\"\n",
    "mycursor.executemany(sql, values)\n",
    "database.commit()"
   ]
  },
  {
   "cell_type": "markdown",
   "metadata": {},
   "source": [
    "+ Genre Table"
   ]
  },
  {
   "cell_type": "code",
   "execution_count": 170,
   "metadata": {},
   "outputs": [],
   "source": [
    "genre_film_id = genre_df['film_id']\n",
    "genre_name = genre_df['genre']"
   ]
  },
  {
   "cell_type": "code",
   "execution_count": 171,
   "metadata": {},
   "outputs": [],
   "source": [
    "values = list(zip(genre_film_id,genre_name))\n",
    "sql = \"INSERT INTO genre_movie (Movie_id,Genre) VALUES (%s,%s)\"\n",
    "mycursor.executemany(sql, values)\n",
    "database.commit()"
   ]
  }
 ],
 "metadata": {
  "kernelspec": {
   "display_name": "BootCamp",
   "language": "python",
   "name": "python3"
  },
  "language_info": {
   "codemirror_mode": {
    "name": "ipython",
    "version": 3
   },
   "file_extension": ".py",
   "mimetype": "text/x-python",
   "name": "python",
   "nbconvert_exporter": "python",
   "pygments_lexer": "ipython3",
   "version": "3.9.17"
  },
  "orig_nbformat": 4
 },
 "nbformat": 4,
 "nbformat_minor": 2
}
