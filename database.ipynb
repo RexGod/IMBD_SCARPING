{
 "cells": [
  {
   "cell_type": "code",
   "execution_count": 17,
   "metadata": {},
   "outputs": [],
   "source": [
    "import pandas as pd\n",
    "import numpy as np\n",
    "import mysql.connector\n",
    "import re\n",
    "import ast"
   ]
  },
  {
   "cell_type": "code",
   "execution_count": 18,
   "metadata": {},
   "outputs": [],
   "source": [
    "top_250 = pd.read_csv('top_250.csv')"
   ]
  },
  {
   "cell_type": "code",
   "execution_count": 19,
   "metadata": {},
   "outputs": [],
   "source": [
    "top_250['parental_guide'].replace(['blank' , 'Not Rated' , 'null' , 'NaN' , 'None'] , 'Unrated' , inplace=True)\n",
    "top_250['parental_guide'].fillna('Unrated' , inplace=True)"
   ]
  },
  {
   "cell_type": "code",
   "execution_count": 20,
   "metadata": {},
   "outputs": [],
   "source": [
    "top_250['gross_us_canada']=top_250['gross_us_canada'].str.replace('[,|$]', '' ,regex=True)\n",
    "top_250['gross_us_canada'].fillna('0' , inplace=True)"
   ]
  },
  {
   "cell_type": "code",
   "execution_count": 21,
   "metadata": {},
   "outputs": [],
   "source": [
    "def convert_runtime(runtime):\n",
    "    match = re.match(r'(\\d+)h?\\s*(\\d*)m?', runtime)\n",
    "    if match:\n",
    "        hours = int(match.group(1))\n",
    "        minutes = int(match.group(2)) if match.group(2) else 0\n",
    "        return int(hours * 60 + minutes) "
   ]
  },
  {
   "cell_type": "code",
   "execution_count": 22,
   "metadata": {},
   "outputs": [],
   "source": [
    "top_250['runtime'] = top_250['runtime'].apply(convert_runtime)"
   ]
  },
  {
   "cell_type": "code",
   "execution_count": 23,
   "metadata": {},
   "outputs": [],
   "source": [
    "all_persons = {}\n",
    "for column in ['stars', 'writers', 'directors']:\n",
    "    top_250[column] = top_250[column].apply(ast.literal_eval)\n",
    "    for row in top_250[column]:\n",
    "        for key, value in row.items():\n",
    "            if key not in all_persons:\n",
    "                all_persons[key] = value"
   ]
  },
  {
   "cell_type": "code",
   "execution_count": 24,
   "metadata": {},
   "outputs": [],
   "source": [
    "unique_persons = pd.DataFrame(list(all_persons.items()), columns=['Person_ID', 'Name'])"
   ]
  },
  {
   "cell_type": "code",
   "execution_count": 25,
   "metadata": {},
   "outputs": [
    {
     "data": {
      "text/html": [
       "<div>\n",
       "<style scoped>\n",
       "    .dataframe tbody tr th:only-of-type {\n",
       "        vertical-align: middle;\n",
       "    }\n",
       "\n",
       "    .dataframe tbody tr th {\n",
       "        vertical-align: top;\n",
       "    }\n",
       "\n",
       "    .dataframe thead th {\n",
       "        text-align: right;\n",
       "    }\n",
       "</style>\n",
       "<table border=\"1\" class=\"dataframe\">\n",
       "  <thead>\n",
       "    <tr style=\"text-align: right;\">\n",
       "      <th></th>\n",
       "      <th>Person_ID</th>\n",
       "      <th>Name</th>\n",
       "    </tr>\n",
       "  </thead>\n",
       "  <tbody>\n",
       "    <tr>\n",
       "      <th>0</th>\n",
       "      <td>0000209</td>\n",
       "      <td>Tim Robbins</td>\n",
       "    </tr>\n",
       "    <tr>\n",
       "      <th>1</th>\n",
       "      <td>0000151</td>\n",
       "      <td>Morgan Freeman</td>\n",
       "    </tr>\n",
       "    <tr>\n",
       "      <th>2</th>\n",
       "      <td>0348409</td>\n",
       "      <td>Bob Gunton</td>\n",
       "    </tr>\n",
       "    <tr>\n",
       "      <th>3</th>\n",
       "      <td>0000008</td>\n",
       "      <td>Marlon Brando</td>\n",
       "    </tr>\n",
       "    <tr>\n",
       "      <th>4</th>\n",
       "      <td>0000199</td>\n",
       "      <td>Al Pacino</td>\n",
       "    </tr>\n",
       "  </tbody>\n",
       "</table>\n",
       "</div>"
      ],
      "text/plain": [
       "  Person_ID            Name\n",
       "0   0000209     Tim Robbins\n",
       "1   0000151  Morgan Freeman\n",
       "2   0348409      Bob Gunton\n",
       "3   0000008   Marlon Brando\n",
       "4   0000199       Al Pacino"
      ]
     },
     "execution_count": 25,
     "metadata": {},
     "output_type": "execute_result"
    }
   ],
   "source": [
    "unique_persons.head()"
   ]
  },
  {
   "cell_type": "code",
   "execution_count": 26,
   "metadata": {},
   "outputs": [],
   "source": [
    "unique_persons.drop_duplicates(inplace=True)"
   ]
  },
  {
   "cell_type": "code",
   "execution_count": 68,
   "metadata": {},
   "outputs": [
    {
     "data": {
      "text/html": [
       "<div>\n",
       "<style scoped>\n",
       "    .dataframe tbody tr th:only-of-type {\n",
       "        vertical-align: middle;\n",
       "    }\n",
       "\n",
       "    .dataframe tbody tr th {\n",
       "        vertical-align: top;\n",
       "    }\n",
       "\n",
       "    .dataframe thead th {\n",
       "        text-align: right;\n",
       "    }\n",
       "</style>\n",
       "<table border=\"1\" class=\"dataframe\">\n",
       "  <thead>\n",
       "    <tr style=\"text-align: right;\">\n",
       "      <th></th>\n",
       "      <th>title</th>\n",
       "      <th>runtime</th>\n",
       "      <th>parental_guide</th>\n",
       "      <th>year</th>\n",
       "      <th>genre</th>\n",
       "      <th>directors</th>\n",
       "      <th>stars</th>\n",
       "      <th>writers</th>\n",
       "      <th>gross_us_canada</th>\n",
       "      <th>film_id</th>\n",
       "    </tr>\n",
       "  </thead>\n",
       "  <tbody>\n",
       "    <tr>\n",
       "      <th>0</th>\n",
       "      <td>The Shawshank Redemption</td>\n",
       "      <td>142</td>\n",
       "      <td>R</td>\n",
       "      <td>1994</td>\n",
       "      <td>['Drama']</td>\n",
       "      <td>{'0001104': 'Frank Darabont'}</td>\n",
       "      <td>{'0000209': 'Tim Robbins', '0000151': 'Morgan ...</td>\n",
       "      <td>{'0000175': 'Stephen King', '0001104': 'Frank ...</td>\n",
       "      <td>28767189</td>\n",
       "      <td>111161</td>\n",
       "    </tr>\n",
       "    <tr>\n",
       "      <th>1</th>\n",
       "      <td>The Godfather</td>\n",
       "      <td>175</td>\n",
       "      <td>R</td>\n",
       "      <td>1972</td>\n",
       "      <td>['Crime', 'Drama']</td>\n",
       "      <td>{'0000338': 'Francis Ford Coppola'}</td>\n",
       "      <td>{'0000008': 'Marlon Brando', '0000199': 'Al Pa...</td>\n",
       "      <td>{'0701374': 'Mario Puzo', '0000338': 'Francis ...</td>\n",
       "      <td>136381073</td>\n",
       "      <td>68646</td>\n",
       "    </tr>\n",
       "    <tr>\n",
       "      <th>2</th>\n",
       "      <td>The Dark Knight</td>\n",
       "      <td>152</td>\n",
       "      <td>PG-13</td>\n",
       "      <td>2008</td>\n",
       "      <td>['Action', 'Crime', 'Drama']</td>\n",
       "      <td>{'0634240': 'Christopher Nolan'}</td>\n",
       "      <td>{'0000288': 'Christian Bale', '0005132': 'Heat...</td>\n",
       "      <td>{'0634300': 'Jonathan Nolan', '0634240': 'Chri...</td>\n",
       "      <td>534987076</td>\n",
       "      <td>468569</td>\n",
       "    </tr>\n",
       "    <tr>\n",
       "      <th>3</th>\n",
       "      <td>The Godfather Part II</td>\n",
       "      <td>202</td>\n",
       "      <td>R</td>\n",
       "      <td>1974</td>\n",
       "      <td>['Crime', 'Drama']</td>\n",
       "      <td>{'0000338': 'Francis Ford Coppola'}</td>\n",
       "      <td>{'0000199': 'Al Pacino', '0000134': 'Robert De...</td>\n",
       "      <td>{'0000338': 'Francis Ford Coppola', '0701374':...</td>\n",
       "      <td>47834595</td>\n",
       "      <td>71562</td>\n",
       "    </tr>\n",
       "    <tr>\n",
       "      <th>4</th>\n",
       "      <td>12 Angry Men</td>\n",
       "      <td>96</td>\n",
       "      <td>Approved</td>\n",
       "      <td>1957</td>\n",
       "      <td>['Crime', 'Drama']</td>\n",
       "      <td>{'0001486': 'Sidney Lumet'}</td>\n",
       "      <td>{'0000020': 'Henry Fonda', '0002011': 'Lee J. ...</td>\n",
       "      <td>{'0741627': 'Reginald Rose'}</td>\n",
       "      <td>0</td>\n",
       "      <td>50083</td>\n",
       "    </tr>\n",
       "    <tr>\n",
       "      <th>5</th>\n",
       "      <td>Schindler's List</td>\n",
       "      <td>195</td>\n",
       "      <td>R</td>\n",
       "      <td>1993</td>\n",
       "      <td>['Biography', 'Drama', 'History']</td>\n",
       "      <td>{'0000229': 'Steven Spielberg'}</td>\n",
       "      <td>{'0000553': 'Liam Neeson', '0000146': 'Ralph F...</td>\n",
       "      <td>{'0447745': 'Thomas Keneally', '0001873': 'Ste...</td>\n",
       "      <td>96898818</td>\n",
       "      <td>108052</td>\n",
       "    </tr>\n",
       "    <tr>\n",
       "      <th>6</th>\n",
       "      <td>The Lord of the Rings: The Return of the King</td>\n",
       "      <td>201</td>\n",
       "      <td>PG-13</td>\n",
       "      <td>2003</td>\n",
       "      <td>['Action', 'Adventure', 'Drama']</td>\n",
       "      <td>{'0001392': 'Peter Jackson'}</td>\n",
       "      <td>{'0000704': 'Elijah Wood', '0001557': 'Viggo M...</td>\n",
       "      <td>{'0866058': 'J.R.R. Tolkien', '0909638': 'Fran...</td>\n",
       "      <td>379427292</td>\n",
       "      <td>167260</td>\n",
       "    </tr>\n",
       "    <tr>\n",
       "      <th>7</th>\n",
       "      <td>Pulp Fiction</td>\n",
       "      <td>154</td>\n",
       "      <td>R</td>\n",
       "      <td>1994</td>\n",
       "      <td>['Crime', 'Drama']</td>\n",
       "      <td>{'0000233': 'Quentin Tarantino'}</td>\n",
       "      <td>{'0000237': 'John Travolta', '0000235': 'Uma T...</td>\n",
       "      <td>{'0000233': 'Quentin Tarantino', '0000812': 'R...</td>\n",
       "      <td>107928762</td>\n",
       "      <td>110912</td>\n",
       "    </tr>\n",
       "    <tr>\n",
       "      <th>8</th>\n",
       "      <td>The Lord of the Rings: The Fellowship of the Ring</td>\n",
       "      <td>178</td>\n",
       "      <td>PG-13</td>\n",
       "      <td>2001</td>\n",
       "      <td>['Action', 'Adventure', 'Drama']</td>\n",
       "      <td>{'0001392': 'Peter Jackson'}</td>\n",
       "      <td>{'0000704': 'Elijah Wood', '0005212': 'Ian McK...</td>\n",
       "      <td>{'0866058': 'J.R.R. Tolkien', '0909638': 'Fran...</td>\n",
       "      <td>316115420</td>\n",
       "      <td>120737</td>\n",
       "    </tr>\n",
       "    <tr>\n",
       "      <th>9</th>\n",
       "      <td>The Good, the Bad and the Ugly</td>\n",
       "      <td>178</td>\n",
       "      <td>Approved</td>\n",
       "      <td>1966</td>\n",
       "      <td>['Adventure', 'Western']</td>\n",
       "      <td>{'0001466': 'Sergio Leone'}</td>\n",
       "      <td>{'0000142': 'Clint Eastwood', '0908919': 'Eli ...</td>\n",
       "      <td>{'0898812': 'Luciano Vincenzoni', '0001466': '...</td>\n",
       "      <td>25100000</td>\n",
       "      <td>60196</td>\n",
       "    </tr>\n",
       "  </tbody>\n",
       "</table>\n",
       "</div>"
      ],
      "text/plain": [
       "                                               title  runtime parental_guide  \\\n",
       "0                           The Shawshank Redemption      142              R   \n",
       "1                                      The Godfather      175              R   \n",
       "2                                    The Dark Knight      152          PG-13   \n",
       "3                              The Godfather Part II      202              R   \n",
       "4                                       12 Angry Men       96       Approved   \n",
       "5                                   Schindler's List      195              R   \n",
       "6      The Lord of the Rings: The Return of the King      201          PG-13   \n",
       "7                                       Pulp Fiction      154              R   \n",
       "8  The Lord of the Rings: The Fellowship of the Ring      178          PG-13   \n",
       "9                     The Good, the Bad and the Ugly      178       Approved   \n",
       "\n",
       "   year                              genre  \\\n",
       "0  1994                          ['Drama']   \n",
       "1  1972                 ['Crime', 'Drama']   \n",
       "2  2008       ['Action', 'Crime', 'Drama']   \n",
       "3  1974                 ['Crime', 'Drama']   \n",
       "4  1957                 ['Crime', 'Drama']   \n",
       "5  1993  ['Biography', 'Drama', 'History']   \n",
       "6  2003   ['Action', 'Adventure', 'Drama']   \n",
       "7  1994                 ['Crime', 'Drama']   \n",
       "8  2001   ['Action', 'Adventure', 'Drama']   \n",
       "9  1966           ['Adventure', 'Western']   \n",
       "\n",
       "                             directors  \\\n",
       "0        {'0001104': 'Frank Darabont'}   \n",
       "1  {'0000338': 'Francis Ford Coppola'}   \n",
       "2     {'0634240': 'Christopher Nolan'}   \n",
       "3  {'0000338': 'Francis Ford Coppola'}   \n",
       "4          {'0001486': 'Sidney Lumet'}   \n",
       "5      {'0000229': 'Steven Spielberg'}   \n",
       "6         {'0001392': 'Peter Jackson'}   \n",
       "7     {'0000233': 'Quentin Tarantino'}   \n",
       "8         {'0001392': 'Peter Jackson'}   \n",
       "9          {'0001466': 'Sergio Leone'}   \n",
       "\n",
       "                                               stars  \\\n",
       "0  {'0000209': 'Tim Robbins', '0000151': 'Morgan ...   \n",
       "1  {'0000008': 'Marlon Brando', '0000199': 'Al Pa...   \n",
       "2  {'0000288': 'Christian Bale', '0005132': 'Heat...   \n",
       "3  {'0000199': 'Al Pacino', '0000134': 'Robert De...   \n",
       "4  {'0000020': 'Henry Fonda', '0002011': 'Lee J. ...   \n",
       "5  {'0000553': 'Liam Neeson', '0000146': 'Ralph F...   \n",
       "6  {'0000704': 'Elijah Wood', '0001557': 'Viggo M...   \n",
       "7  {'0000237': 'John Travolta', '0000235': 'Uma T...   \n",
       "8  {'0000704': 'Elijah Wood', '0005212': 'Ian McK...   \n",
       "9  {'0000142': 'Clint Eastwood', '0908919': 'Eli ...   \n",
       "\n",
       "                                             writers gross_us_canada  film_id  \n",
       "0  {'0000175': 'Stephen King', '0001104': 'Frank ...        28767189   111161  \n",
       "1  {'0701374': 'Mario Puzo', '0000338': 'Francis ...       136381073    68646  \n",
       "2  {'0634300': 'Jonathan Nolan', '0634240': 'Chri...       534987076   468569  \n",
       "3  {'0000338': 'Francis Ford Coppola', '0701374':...        47834595    71562  \n",
       "4                       {'0741627': 'Reginald Rose'}               0    50083  \n",
       "5  {'0447745': 'Thomas Keneally', '0001873': 'Ste...        96898818   108052  \n",
       "6  {'0866058': 'J.R.R. Tolkien', '0909638': 'Fran...       379427292   167260  \n",
       "7  {'0000233': 'Quentin Tarantino', '0000812': 'R...       107928762   110912  \n",
       "8  {'0866058': 'J.R.R. Tolkien', '0909638': 'Fran...       316115420   120737  \n",
       "9  {'0898812': 'Luciano Vincenzoni', '0001466': '...        25100000    60196  "
      ]
     },
     "execution_count": 68,
     "metadata": {},
     "output_type": "execute_result"
    }
   ],
   "source": [
    "top_250.head(10)"
   ]
  },
  {
   "cell_type": "code",
   "execution_count": 14,
   "metadata": {},
   "outputs": [],
   "source": [
    "top_250.to_csv('top_250_new.csv', index=False)"
   ]
  },
  {
   "cell_type": "code",
   "execution_count": 13,
   "metadata": {},
   "outputs": [],
   "source": [
    "database = mysql.connector.connect(\n",
    "    host = 'localhost',\n",
    "    user = 'root',\n",
    "    password = 'Sh@0831@Sh'\n",
    ")"
   ]
  },
  {
   "cell_type": "code",
   "execution_count": 14,
   "metadata": {},
   "outputs": [],
   "source": [
    "mycursor = database.cursor()"
   ]
  },
  {
   "cell_type": "code",
   "execution_count": 24,
   "metadata": {},
   "outputs": [
    {
     "ename": "DatabaseError",
     "evalue": "1007 (HY000): Can't create database 'imdb_top_250'; database exists",
     "output_type": "error",
     "traceback": [
      "\u001b[1;31m---------------------------------------------------------------------------\u001b[0m",
      "\u001b[1;31mMySQLInterfaceError\u001b[0m                       Traceback (most recent call last)",
      "File \u001b[1;32mc:\\Users\\BAAZSHOW\\anaconda3\\envs\\BootCamp\\lib\\site-packages\\mysql\\connector\\connection_cext.py:633\u001b[0m, in \u001b[0;36mCMySQLConnection.cmd_query\u001b[1;34m(self, query, raw, buffered, raw_as_string)\u001b[0m\n\u001b[0;32m    632\u001b[0m         query \u001b[39m=\u001b[39m query\u001b[39m.\u001b[39mencode(\u001b[39m\"\u001b[39m\u001b[39mutf-8\u001b[39m\u001b[39m\"\u001b[39m)\n\u001b[1;32m--> 633\u001b[0m     \u001b[39mself\u001b[39;49m\u001b[39m.\u001b[39;49m_cmysql\u001b[39m.\u001b[39;49mquery(\n\u001b[0;32m    634\u001b[0m         query,\n\u001b[0;32m    635\u001b[0m         raw\u001b[39m=\u001b[39;49mraw,\n\u001b[0;32m    636\u001b[0m         buffered\u001b[39m=\u001b[39;49mbuffered,\n\u001b[0;32m    637\u001b[0m         raw_as_string\u001b[39m=\u001b[39;49mraw_as_string,\n\u001b[0;32m    638\u001b[0m         query_attrs\u001b[39m=\u001b[39;49m\u001b[39mself\u001b[39;49m\u001b[39m.\u001b[39;49mquery_attrs,\n\u001b[0;32m    639\u001b[0m     )\n\u001b[0;32m    640\u001b[0m \u001b[39mexcept\u001b[39;00m MySQLInterfaceError \u001b[39mas\u001b[39;00m err:\n",
      "\u001b[1;31mMySQLInterfaceError\u001b[0m: Can't create database 'imdb_top_250'; database exists",
      "\nThe above exception was the direct cause of the following exception:\n",
      "\u001b[1;31mDatabaseError\u001b[0m                             Traceback (most recent call last)",
      "Cell \u001b[1;32mIn[24], line 1\u001b[0m\n\u001b[1;32m----> 1\u001b[0m mycursor\u001b[39m.\u001b[39;49mexecute(\u001b[39m'\u001b[39;49m\u001b[39mcreate database IMDB_TOP_250\u001b[39;49m\u001b[39m'\u001b[39;49m)\n",
      "File \u001b[1;32mc:\\Users\\BAAZSHOW\\anaconda3\\envs\\BootCamp\\lib\\site-packages\\mysql\\connector\\cursor_cext.py:330\u001b[0m, in \u001b[0;36mCMySQLCursor.execute\u001b[1;34m(self, operation, params, multi)\u001b[0m\n\u001b[0;32m    325\u001b[0m             \u001b[39mraise\u001b[39;00m ProgrammingError(\n\u001b[0;32m    326\u001b[0m                 \u001b[39m\"\u001b[39m\u001b[39mNot all parameters were used in the SQL statement\u001b[39m\u001b[39m\"\u001b[39m\n\u001b[0;32m    327\u001b[0m             )\n\u001b[0;32m    329\u001b[0m \u001b[39mtry\u001b[39;00m:\n\u001b[1;32m--> 330\u001b[0m     result \u001b[39m=\u001b[39m \u001b[39mself\u001b[39;49m\u001b[39m.\u001b[39;49m_cnx\u001b[39m.\u001b[39;49mcmd_query(\n\u001b[0;32m    331\u001b[0m         stmt,\n\u001b[0;32m    332\u001b[0m         raw\u001b[39m=\u001b[39;49m\u001b[39mself\u001b[39;49m\u001b[39m.\u001b[39;49m_raw,\n\u001b[0;32m    333\u001b[0m         buffered\u001b[39m=\u001b[39;49m\u001b[39mself\u001b[39;49m\u001b[39m.\u001b[39;49m_buffered,\n\u001b[0;32m    334\u001b[0m         raw_as_string\u001b[39m=\u001b[39;49m\u001b[39mself\u001b[39;49m\u001b[39m.\u001b[39;49m_raw_as_string,\n\u001b[0;32m    335\u001b[0m     )\n\u001b[0;32m    336\u001b[0m \u001b[39mexcept\u001b[39;00m MySQLInterfaceError \u001b[39mas\u001b[39;00m err:\n\u001b[0;32m    337\u001b[0m     \u001b[39mraise\u001b[39;00m get_mysql_exception(\n\u001b[0;32m    338\u001b[0m         msg\u001b[39m=\u001b[39merr\u001b[39m.\u001b[39mmsg, errno\u001b[39m=\u001b[39merr\u001b[39m.\u001b[39merrno, sqlstate\u001b[39m=\u001b[39merr\u001b[39m.\u001b[39msqlstate\n\u001b[0;32m    339\u001b[0m     ) \u001b[39mfrom\u001b[39;00m \u001b[39merr\u001b[39;00m\n",
      "File \u001b[1;32mc:\\Users\\BAAZSHOW\\anaconda3\\envs\\BootCamp\\lib\\site-packages\\mysql\\connector\\opentelemetry\\context_propagation.py:77\u001b[0m, in \u001b[0;36mwith_context_propagation.<locals>.wrapper\u001b[1;34m(cnx, *args, **kwargs)\u001b[0m\n\u001b[0;32m     75\u001b[0m \u001b[39m\u001b[39m\u001b[39m\"\"\"Context propagation decorator.\"\"\"\u001b[39;00m\n\u001b[0;32m     76\u001b[0m \u001b[39mif\u001b[39;00m \u001b[39mnot\u001b[39;00m OTEL_ENABLED \u001b[39mor\u001b[39;00m \u001b[39mnot\u001b[39;00m cnx\u001b[39m.\u001b[39motel_context_propagation:\n\u001b[1;32m---> 77\u001b[0m     \u001b[39mreturn\u001b[39;00m method(cnx, \u001b[39m*\u001b[39margs, \u001b[39m*\u001b[39m\u001b[39m*\u001b[39mkwargs)\n\u001b[0;32m     79\u001b[0m current_span \u001b[39m=\u001b[39m trace\u001b[39m.\u001b[39mget_current_span()\n\u001b[0;32m     80\u001b[0m tp_header \u001b[39m=\u001b[39m \u001b[39mNone\u001b[39;00m\n",
      "File \u001b[1;32mc:\\Users\\BAAZSHOW\\anaconda3\\envs\\BootCamp\\lib\\site-packages\\mysql\\connector\\connection_cext.py:641\u001b[0m, in \u001b[0;36mCMySQLConnection.cmd_query\u001b[1;34m(self, query, raw, buffered, raw_as_string)\u001b[0m\n\u001b[0;32m    633\u001b[0m     \u001b[39mself\u001b[39m\u001b[39m.\u001b[39m_cmysql\u001b[39m.\u001b[39mquery(\n\u001b[0;32m    634\u001b[0m         query,\n\u001b[0;32m    635\u001b[0m         raw\u001b[39m=\u001b[39mraw,\n\u001b[1;32m   (...)\u001b[0m\n\u001b[0;32m    638\u001b[0m         query_attrs\u001b[39m=\u001b[39m\u001b[39mself\u001b[39m\u001b[39m.\u001b[39mquery_attrs,\n\u001b[0;32m    639\u001b[0m     )\n\u001b[0;32m    640\u001b[0m \u001b[39mexcept\u001b[39;00m MySQLInterfaceError \u001b[39mas\u001b[39;00m err:\n\u001b[1;32m--> 641\u001b[0m     \u001b[39mraise\u001b[39;00m get_mysql_exception(\n\u001b[0;32m    642\u001b[0m         err\u001b[39m.\u001b[39merrno, msg\u001b[39m=\u001b[39merr\u001b[39m.\u001b[39mmsg, sqlstate\u001b[39m=\u001b[39merr\u001b[39m.\u001b[39msqlstate\n\u001b[0;32m    643\u001b[0m     ) \u001b[39mfrom\u001b[39;00m \u001b[39merr\u001b[39;00m\n\u001b[0;32m    644\u001b[0m \u001b[39mexcept\u001b[39;00m \u001b[39mAttributeError\u001b[39;00m \u001b[39mas\u001b[39;00m err:\n\u001b[0;32m    645\u001b[0m     addr \u001b[39m=\u001b[39m (\n\u001b[0;32m    646\u001b[0m         \u001b[39mself\u001b[39m\u001b[39m.\u001b[39m_unix_socket \u001b[39mif\u001b[39;00m \u001b[39mself\u001b[39m\u001b[39m.\u001b[39m_unix_socket \u001b[39melse\u001b[39;00m \u001b[39mf\u001b[39m\u001b[39m\"\u001b[39m\u001b[39m{\u001b[39;00m\u001b[39mself\u001b[39m\u001b[39m.\u001b[39m_host\u001b[39m}\u001b[39;00m\u001b[39m:\u001b[39m\u001b[39m{\u001b[39;00m\u001b[39mself\u001b[39m\u001b[39m.\u001b[39m_port\u001b[39m}\u001b[39;00m\u001b[39m\"\u001b[39m\n\u001b[0;32m    647\u001b[0m     )\n",
      "\u001b[1;31mDatabaseError\u001b[0m: 1007 (HY000): Can't create database 'imdb_top_250'; database exists"
     ]
    }
   ],
   "source": [
    "\n",
    "mycursor.execute('create database IMDB_TOP_250')\n"
   ]
  },
  {
   "cell_type": "code",
   "execution_count": 15,
   "metadata": {},
   "outputs": [],
   "source": [
    "mycursor.execute('USE IMDB_TOP_250')"
   ]
  },
  {
   "cell_type": "code",
   "execution_count": null,
   "metadata": {},
   "outputs": [],
   "source": [
    "mycursor.execute('create table  movie (id VARCHAR(8) PRIMARY KEY , \\\n",
    "                 Title VARCHAR(128) NOT NULL,\\\n",
    "                 Year INT,\\\n",
    "                 Runtime INT,\\\n",
    "                 Parental_guide VARCHAR(8),\\\n",
    "                 Gross_us_canada INT)')\n"
   ]
  },
  {
   "cell_type": "code",
   "execution_count": null,
   "metadata": {},
   "outputs": [],
   "source": [
    "mycursor.execute('create table person (id varchar(8) PRIMARY KEY ,\\\n",
    "                 Name varchar(32))')"
   ]
  },
  {
   "cell_type": "code",
   "execution_count": null,
   "metadata": {},
   "outputs": [],
   "source": [
    "mycursor.execute('CREATE TABLE cast (id INT AUTO_INCREMENT PRIMARY KEY,\\\n",
    "    Movie_id VARCHAR(8),\\\n",
    "    Person_id VARCHAR(8),\\\n",
    "    FOREIGN KEY (Movie_id) REFERENCES movie(id),\\\n",
    "    FOREIGN KEY (Person_id) REFERENCES person(id)\\\n",
    ") AUTO_INCREMENT = 1')"
   ]
  },
  {
   "cell_type": "code",
   "execution_count": null,
   "metadata": {},
   "outputs": [],
   "source": [
    "mycursor.execute('CREATE TABLE crew (id INT AUTO_INCREMENT PRIMARY KEY,\\\n",
    "                 Movie_id VARCHAR(8),\\\n",
    "                 Person_id VARCHAR(8),\\\n",
    "                 role VARCHAR(8),\\\n",
    "                 FOREIGN KEY (Movie_id) REFERENCES movie(id),\\\n",
    "                 FOREIGN KEY (Person_id) REFERENCES person(id)\\\n",
    "                 ) AUTO_INCREMENT = 1')"
   ]
  },
  {
   "cell_type": "code",
   "execution_count": null,
   "metadata": {},
   "outputs": [],
   "source": [
    "mycursor.execute('CREATE TABLE genre_movie (id INT AUTO_INCREMENT PRIMARY KEY, \\\n",
    "                  Movie_id VARCHAR(8),\\\n",
    "                  Genre VARCHAR(16),\\\n",
    "                 FOREIGN KEY (Movie_id) REFERENCES movie(id)\\\n",
    "                 ) AUTO_INCREMENT = 1')"
   ]
  },
  {
   "cell_type": "markdown",
   "metadata": {},
   "source": [
    "#### add data from dataframe into database"
   ]
  },
  {
   "cell_type": "code",
   "execution_count": 96,
   "metadata": {},
   "outputs": [
    {
     "data": {
      "text/plain": [
       "title              0\n",
       "runtime            0\n",
       "parental_guide     0\n",
       "year               0\n",
       "genre              0\n",
       "directors          0\n",
       "stars              0\n",
       "writers            0\n",
       "person_id          0\n",
       "gross_us_canada    0\n",
       "film_id            0\n",
       "dtype: int64"
      ]
     },
     "execution_count": 96,
     "metadata": {},
     "output_type": "execute_result"
    }
   ],
   "source": [
    " top_250.isna().sum()"
   ]
  },
  {
   "cell_type": "code",
   "execution_count": 27,
   "metadata": {},
   "outputs": [],
   "source": [
    "movie_id = top_250['film_id'].to_list()\n",
    "titles = top_250['title'].tolist()\n",
    "years = top_250['year'].tolist()\n",
    "runtimes = top_250['runtime'].tolist()\n",
    "parental_guides = top_250['parental_guide'].tolist()\n",
    "gross_us_canadas = top_250['gross_us_canada'].tolist()\n",
    "person_id = unique_persons['Person_ID'].tolist()\n",
    "person_name = unique_persons['Name'].tolist()"
   ]
  },
  {
   "cell_type": "code",
   "execution_count": 101,
   "metadata": {},
   "outputs": [],
   "source": [
    "values = list(zip(movie_id,titles, years, runtimes, parental_guides, gross_us_canadas))"
   ]
  },
  {
   "cell_type": "code",
   "execution_count": 103,
   "metadata": {},
   "outputs": [],
   "source": [
    "sql = \"INSERT INTO movie (id,Title, Year, Runtime, Parental_guide, Gross_us_canada) VALUES (%s,%s, %s, %s, %s, %s)\"\n",
    "mycursor.executemany(sql, values)\n",
    "database.commit()"
   ]
  },
  {
   "cell_type": "code",
   "execution_count": 28,
   "metadata": {},
   "outputs": [],
   "source": [
    "values = list(zip(person_id,person_name))"
   ]
  },
  {
   "cell_type": "code",
   "execution_count": 29,
   "metadata": {},
   "outputs": [],
   "source": [
    "sql = \"INSERT INTO person (id,Name) VALUES (%s,%s)\"\n",
    "mycursor.executemany(sql, values)\n",
    "database.commit()"
   ]
  },
  {
   "cell_type": "code",
   "execution_count": null,
   "metadata": {},
   "outputs": [],
   "source": []
  }
 ],
 "metadata": {
  "kernelspec": {
   "display_name": "BootCamp",
   "language": "python",
   "name": "python3"
  },
  "language_info": {
   "codemirror_mode": {
    "name": "ipython",
    "version": 3
   },
   "file_extension": ".py",
   "mimetype": "text/x-python",
   "name": "python",
   "nbconvert_exporter": "python",
   "pygments_lexer": "ipython3",
   "version": "3.9.17"
  },
  "orig_nbformat": 4
 },
 "nbformat": 4,
 "nbformat_minor": 2
}
