{
 "cells": [
  {
   "cell_type": "markdown",
   "metadata": {},
   "source": [
    "## First Question : scarp top 250 movie imbd with information"
   ]
  },
  {
   "cell_type": "markdown",
   "metadata": {},
   "source": [
    "### import libraries"
   ]
  },
  {
   "cell_type": "code",
   "execution_count": 417,
   "metadata": {},
   "outputs": [],
   "source": [
    "import pandas as pd\n",
    "import numpy as np\n",
    "import requests\n",
    "from bs4 import BeautifulSoup"
   ]
  },
  {
   "cell_type": "markdown",
   "metadata": {},
   "source": [
    "##### get main url"
   ]
  },
  {
   "cell_type": "code",
   "execution_count": 418,
   "metadata": {},
   "outputs": [],
   "source": [
    "urlmain = 'https://www.imdb.com/chart/top/'\n"
   ]
  },
  {
   "cell_type": "markdown",
   "metadata": {},
   "source": [
    "#### Send get request to url "
   ]
  },
  {
   "cell_type": "code",
   "execution_count": 419,
   "metadata": {},
   "outputs": [],
   "source": [
    "headers = {'Accept-Language': 'en-US',\"User-Agent\": \"Mozilla/5.0 (Windows NT 10.0; Win64; x64) AppleWebKit/537.36 (KHTML, like Gecko) Chrome/58.0.3029.110 Safari/537.36\"}"
   ]
  },
  {
   "cell_type": "code",
   "execution_count": 420,
   "metadata": {},
   "outputs": [],
   "source": [
    "response = requests.get(url=urlmain , headers=headers)"
   ]
  },
  {
   "cell_type": "code",
   "execution_count": 421,
   "metadata": {},
   "outputs": [
    {
     "name": "stdout",
     "output_type": "stream",
     "text": [
      "200\n"
     ]
    }
   ],
   "source": [
    "print(response.status_code)"
   ]
  },
  {
   "cell_type": "markdown",
   "metadata": {},
   "source": [
    "##### parse content"
   ]
  },
  {
   "cell_type": "code",
   "execution_count": 422,
   "metadata": {},
   "outputs": [],
   "source": [
    "soup = BeautifulSoup(response.content, 'html.parser')"
   ]
  },
  {
   "cell_type": "markdown",
   "metadata": {},
   "source": [
    "get link for each movies"
   ]
  },
  {
   "cell_type": "code",
   "execution_count": 423,
   "metadata": {},
   "outputs": [],
   "source": [
    "links_250 = soup.find_all('div', class_='ipc-title ipc-title--base ipc-title--title ipc-title-link-no-icon ipc-title--on-textPrimary sc-b85248f1-7 lhgKeb cli-title')"
   ]
  },
  {
   "cell_type": "code",
   "execution_count": 424,
   "metadata": {},
   "outputs": [],
   "source": [
    "scrap_info_movies = []"
   ]
  },
  {
   "cell_type": "code",
   "execution_count": 425,
   "metadata": {},
   "outputs": [],
   "source": [
    "import time\n",
    "session = requests.Session()\n",
    "for link in links_250[:3]: \n",
    "    a_element = link.find(\"a\")\n",
    "    get_att = a_element.get('href')\n",
    "    movie_urls = f\"https://www.imdb.com{get_att}\"\n",
    "    response_each_movie = requests.get(url=movie_urls, headers=headers)\n",
    "    movies_soup = BeautifulSoup(response_each_movie.content, 'html.parser')\n",
    "    titles = movies_soup.find('span', class_='sc-afe43def-1 fDTGTb').text\n",
    "\n",
    "    ul_element = movies_soup.find('ul', {'class': 'ipc-inline-list ipc-inline-list--show-dividers sc-afe43def-4 kdXikI baseAlt'})\n",
    "    years = None\n",
    "    parental_guide = None\n",
    "    runtime = None\n",
    "    for li_element in ul_element.find_all('li', {'class': 'ipc-inline-list__item'}):\n",
    "        ainner_element = li_element.find('a', {'class': 'ipc-link ipc-link--baseAlt ipc-link--inherit-color'})\n",
    "        if ainner_element:\n",
    "            href = ainner_element.get('href')\n",
    "            text = ainner_element.text\n",
    "            if 'releaseinfo' in href:\n",
    "                years = text\n",
    "            elif 'parentalguide' in href:\n",
    "                parental_guide = text\n",
    "        else:\n",
    "            runtime = li_element.text\n",
    "    genre_list = movies_soup.find_all('a', {'class': 'ipc-chip ipc-chip--on-baseAlt'})\n",
    "    genre = [genre.find('span', class_='ipc-chip__text').text for genre in genre_list]\n",
    "    #director\n",
    "    ul_crew = movies_soup.find('ul' , class_= 'ipc-inline-list ipc-inline-list--show-dividers ipc-inline-list--inline ipc-metadata-list-item__list-content baseAlt')\n",
    "    directors = None\n",
    "    stars = None\n",
    "    writers = None\n",
    "    for li_element in ul_crew.find_all('li' , {'class': 'ipc-inline-list__item'}):\n",
    "        ainner_crew = li_element.find('a', {'class': 'ipc-metadata-list-item__list-content-item ipc-metadata-list-item__list-content-item--link'})\n",
    "        if ainner_crew:\n",
    "            href = ainner_crew.get('href')\n",
    "            text = ainner_crew.text\n",
    "            if 'tt_ov_wr' in href:\n",
    "                writers = text\n",
    "            elif 'tt_ov_st' in href:\n",
    "                stars = text\n",
    "            elif 'tt_ov_dr' in href:\n",
    "                directors = li_element.text\n",
    "    scrap_info_movies.append({'title': titles,'runtime':runtime, 'parental_guide' : parental_guide, 'genre': genre, 'stars': stars, 'directors': directors, 'writers': writers})\n",
    "    #time.sleep(2)\n",
    "\n",
    "session.close()\n"
   ]
  },
  {
   "cell_type": "code",
   "execution_count": 426,
   "metadata": {},
   "outputs": [],
   "source": [
    "top_250 = pd.DataFrame(scrap_info_movies)"
   ]
  },
  {
   "cell_type": "code",
   "execution_count": 427,
   "metadata": {},
   "outputs": [
    {
     "data": {
      "text/html": [
       "<div>\n",
       "<style scoped>\n",
       "    .dataframe tbody tr th:only-of-type {\n",
       "        vertical-align: middle;\n",
       "    }\n",
       "\n",
       "    .dataframe tbody tr th {\n",
       "        vertical-align: top;\n",
       "    }\n",
       "\n",
       "    .dataframe thead th {\n",
       "        text-align: right;\n",
       "    }\n",
       "</style>\n",
       "<table border=\"1\" class=\"dataframe\">\n",
       "  <thead>\n",
       "    <tr style=\"text-align: right;\">\n",
       "      <th></th>\n",
       "      <th>title</th>\n",
       "      <th>runtime</th>\n",
       "      <th>parental_guide</th>\n",
       "      <th>genre</th>\n",
       "      <th>stars</th>\n",
       "      <th>directors</th>\n",
       "      <th>writers</th>\n",
       "    </tr>\n",
       "  </thead>\n",
       "  <tbody>\n",
       "    <tr>\n",
       "      <th>0</th>\n",
       "      <td>The Shawshank Redemption</td>\n",
       "      <td>2h 22m</td>\n",
       "      <td>R</td>\n",
       "      <td>[Drama]</td>\n",
       "      <td>None</td>\n",
       "      <td>Frank Darabont</td>\n",
       "      <td>None</td>\n",
       "    </tr>\n",
       "    <tr>\n",
       "      <th>1</th>\n",
       "      <td>The Godfather</td>\n",
       "      <td>2h 55m</td>\n",
       "      <td>R</td>\n",
       "      <td>[Crime, Drama]</td>\n",
       "      <td>None</td>\n",
       "      <td>Francis Ford Coppola</td>\n",
       "      <td>None</td>\n",
       "    </tr>\n",
       "    <tr>\n",
       "      <th>2</th>\n",
       "      <td>The Dark Knight</td>\n",
       "      <td>2h 32m</td>\n",
       "      <td>PG-13</td>\n",
       "      <td>[Action, Crime, Drama]</td>\n",
       "      <td>None</td>\n",
       "      <td>Christopher Nolan</td>\n",
       "      <td>None</td>\n",
       "    </tr>\n",
       "  </tbody>\n",
       "</table>\n",
       "</div>"
      ],
      "text/plain": [
       "                      title runtime parental_guide                   genre  \\\n",
       "0  The Shawshank Redemption  2h 22m              R                 [Drama]   \n",
       "1             The Godfather  2h 55m              R          [Crime, Drama]   \n",
       "2           The Dark Knight  2h 32m          PG-13  [Action, Crime, Drama]   \n",
       "\n",
       "  stars             directors writers  \n",
       "0  None        Frank Darabont    None  \n",
       "1  None  Francis Ford Coppola    None  \n",
       "2  None     Christopher Nolan    None  "
      ]
     },
     "execution_count": 427,
     "metadata": {},
     "output_type": "execute_result"
    }
   ],
   "source": [
    "top_250.head(50)"
   ]
  },
  {
   "cell_type": "code",
   "execution_count": 428,
   "metadata": {},
   "outputs": [
    {
     "data": {
      "text/plain": [
       "\"     directore_list = movies_soup.find_all('a', class_='ipc-metadata-list-item__list-content-item ipc-metadata-list-item__list-content-item--link')\\n    directore = [directore.get_text() for directore in directore_list]\\n    writer_list = movies_soup.find_all('a', class_='ipc-metadata-list-item__list-content-item ipc-metadata-list-item__list-content-item--link')\\n    writer = \\n    star_list = movies_soup.find_all('a', class_='ipc-metadata-list-item__list-content-item ipc-metadata-list-item__list-content-item--link')\\n    star = \\n    gross_us_canada =   \""
      ]
     },
     "execution_count": 428,
     "metadata": {},
     "output_type": "execute_result"
    }
   ],
   "source": [
    "\"\"\"     directore_list = movies_soup.find_all('a', class_='ipc-metadata-list-item__list-content-item ipc-metadata-list-item__list-content-item--link')\n",
    "    directore = [directore.get_text() for directore in directore_list]\n",
    "    writer_list = movies_soup.find_all('a', class_='ipc-metadata-list-item__list-content-item ipc-metadata-list-item__list-content-item--link')\n",
    "    writer = \n",
    "    star_list = movies_soup.find_all('a', class_='ipc-metadata-list-item__list-content-item ipc-metadata-list-item__list-content-item--link')\n",
    "    star = \n",
    "    gross_us_canada =   \"\"\""
   ]
  }
 ],
 "metadata": {
  "kernelspec": {
   "display_name": "BootCamp",
   "language": "python",
   "name": "python3"
  },
  "language_info": {
   "codemirror_mode": {
    "name": "ipython",
    "version": 3
   },
   "file_extension": ".py",
   "mimetype": "text/x-python",
   "name": "python",
   "nbconvert_exporter": "python",
   "pygments_lexer": "ipython3",
   "version": "3.9.17"
  },
  "orig_nbformat": 4
 },
 "nbformat": 4,
 "nbformat_minor": 2
}
